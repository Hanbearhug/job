{
 "cells": [
  {
   "cell_type": "markdown",
   "metadata": {},
   "source": [
    "### 遗传算法\n",
    "\n",
    "**遗传算法**是一种优化方法，其源于达尔文的自然选择学说。自然选择学说认为，在特定的环境下，各种生物的那些适应所在环境特点的功能有更高可能在代际遗传中得到保留（举例而言，在高寒地区的动物通常长有非常厚的毛）。自然选择在以下条件下就会产生：\n",
    "\n",
    "* 各种生物要有办法将自己的遗传特征传给后代\n",
    "* 环境中的遗传特征种类多种多样\n",
    "* 只有部分生物体才可以将自己的遗传特征传给后代，也就是“适者生存”\n",
    "\n",
    "这种“仿生学”的方法如何在算法中应用呢？"
   ]
  },
  {
   "cell_type": "markdown",
   "metadata": {},
   "source": [
    "#### 场景\n",
    "\n",
    "假设我们随机抽取100个用户来公司参观，并与自己喜欢的老师和产品经理互相交流。在他们来公司前，我们送了一组问卷，问卷内容包括：\n",
    "\n",
    "* 对数学视频的喜好程度\n",
    "* 对物理视频的喜好程度\n",
    "* 对英语视频的喜好程度\n",
    "\n",
    "在问卷中，他们需要对每个问题打一个分数，10分为最喜欢，0分为最不喜欢。\n",
    "\n",
    "现在，这100位用户会分坐10行10列，由于活动需要，我们需要保证同一个人的前、后、左、右邻座不能和这个人有很大的兴趣差异。\n",
    "\n",
    "他们的问卷数据在`questionnaire.csv`中，现在，你需要**用pandas 读取，并输出数据的前5行**"
   ]
  },
  {
   "cell_type": "code",
   "execution_count": 1,
   "metadata": {},
   "outputs": [
    {
     "data": {
      "text/html": [
       "<div>\n",
       "<style scoped>\n",
       "    .dataframe tbody tr th:only-of-type {\n",
       "        vertical-align: middle;\n",
       "    }\n",
       "\n",
       "    .dataframe tbody tr th {\n",
       "        vertical-align: top;\n",
       "    }\n",
       "\n",
       "    .dataframe thead th {\n",
       "        text-align: right;\n",
       "    }\n",
       "</style>\n",
       "<table border=\"1\" class=\"dataframe\">\n",
       "  <thead>\n",
       "    <tr style=\"text-align: right;\">\n",
       "      <th></th>\n",
       "      <th>math</th>\n",
       "      <th>physics</th>\n",
       "      <th>english</th>\n",
       "    </tr>\n",
       "    <tr>\n",
       "      <th>uid</th>\n",
       "      <th></th>\n",
       "      <th></th>\n",
       "      <th></th>\n",
       "    </tr>\n",
       "  </thead>\n",
       "  <tbody>\n",
       "    <tr>\n",
       "      <th>1</th>\n",
       "      <td>0</td>\n",
       "      <td>4</td>\n",
       "      <td>7</td>\n",
       "    </tr>\n",
       "    <tr>\n",
       "      <th>2</th>\n",
       "      <td>5</td>\n",
       "      <td>2</td>\n",
       "      <td>0</td>\n",
       "    </tr>\n",
       "    <tr>\n",
       "      <th>3</th>\n",
       "      <td>5</td>\n",
       "      <td>1</td>\n",
       "      <td>3</td>\n",
       "    </tr>\n",
       "    <tr>\n",
       "      <th>4</th>\n",
       "      <td>9</td>\n",
       "      <td>1</td>\n",
       "      <td>8</td>\n",
       "    </tr>\n",
       "    <tr>\n",
       "      <th>5</th>\n",
       "      <td>9</td>\n",
       "      <td>1</td>\n",
       "      <td>8</td>\n",
       "    </tr>\n",
       "  </tbody>\n",
       "</table>\n",
       "</div>"
      ],
      "text/plain": [
       "     math  physics  english\n",
       "uid                        \n",
       "1       0        4        7\n",
       "2       5        2        0\n",
       "3       5        1        3\n",
       "4       9        1        8\n",
       "5       9        1        8"
      ]
     },
     "execution_count": 1,
     "metadata": {},
     "output_type": "execute_result"
    }
   ],
   "source": [
    "import pandas as pd\n",
    "import os\n",
    "os.chdir('D:/Dr.HanInXMU/实习/洋葱数学/测试')\n",
    "# 读取 questionnaire.csv, 存到 df 中，并将第一列（uid）设置为索引\n",
    "### CODE HERE\n",
    "df = pd.read_csv('questionnaire.csv',index_col='uid')\n",
    "\n",
    "df.head()"
   ]
  },
  {
   "cell_type": "markdown",
   "metadata": {},
   "source": [
    "有了数据，首先我们可以尝试将问题和数据形式化。在这个问题里，我们的输出显然是个10×10的矩阵，我们可以通过这个矩阵为这100个用户安排座位。为了让遗传算法听起来更有生物范儿，我们可以把矩阵叫做“染色体”，把矩阵中每个元素（座位和座位上的用户）叫做“基因”，这样我们就可以提出很多染色体，这些染色体有的符合问题的要求，有的不符合。\n",
    "\n",
    "所以，我们可以先随机生成10个染色体。**请将所有uid随机分配到一个名为 `user_mat` 的10×10的numpy矩阵中**"
   ]
  },
  {
   "cell_type": "code",
   "execution_count": 2,
   "metadata": {},
   "outputs": [],
   "source": [
    "import numpy as np\n",
    "### CODE HERE"
   ]
  },
  {
   "cell_type": "markdown",
   "metadata": {},
   "source": [
    "接下来，**随机\"shuffle\" `user_mat` 十次，并将返回的“染色体”保存到 `initial_population`**"
   ]
  },
  {
   "cell_type": "code",
   "execution_count": 3,
   "metadata": {},
   "outputs": [],
   "source": [
    "initial_population = []\n",
    "\n",
    "for x in range(10):\n",
    "    user_mat = np.random.permutation(range(1, 101)).reshape((10,10))\n",
    "    initial_population.append(user_mat)"
   ]
  },
  {
   "cell_type": "code",
   "execution_count": 4,
   "metadata": {
    "scrolled": true
   },
   "outputs": [
    {
     "data": {
      "text/plain": [
       "[array([[ 94,  13,  90,  30,  43,  60,  64,  83,  40,  20],\n",
       "        [ 61,  99,  24,  49,  74,  38,  59,  51,  84,  78],\n",
       "        [  6,  85,  65,  45,  69,  29,   5,  87,  11,  97],\n",
       "        [  8,  41,  62,  37,  57,  96,  79,  14,  10,  67],\n",
       "        [ 26,  47,   2,   7,  17,   1,  19,  16,  93,  77],\n",
       "        [  9,   4,  91,  92,  42,  39,  31,  18,  36,  98],\n",
       "        [ 89,  53,  58,  88,  46,  95,  21,  68,  50,  12],\n",
       "        [ 54,  71,  15,  70,  56,  22,  66,  35,  33,  23],\n",
       "        [ 72, 100,  75,  82,  27,  86,  52,  48,  55,  34],\n",
       "        [  3,  76,  28,  73,  32,  63,  25,  81,  44,  80]]),\n",
       " array([[ 71,  13,  28,  33,  62,  19,   2,  92,   7,  38],\n",
       "        [ 60,  82,  93,  32,  55,  46,  29,  16,  40,   9],\n",
       "        [ 51,  35,  74,   5,  52,  17,  50,  61,  21,  23],\n",
       "        [  8,   3,  69,  18,   1,  95,  59,  22,  27,  14],\n",
       "        [ 77,  58,  70,  20,  73,  48,  30,  98,  44,  83],\n",
       "        [ 88,   6,  37,  86,  56,  76,  90,   4,  65,  64],\n",
       "        [ 99,  81,  15,  49,  12,  36,  66,  43,  26,  10],\n",
       "        [ 63,  79,  34,  97,  80,  89,  25,  42,  78,  41],\n",
       "        [ 85,  96,  72,  57,  39,  94,  45,  84,  54, 100],\n",
       "        [ 75,  47,  91,  68,  53,  87,  24,  11,  67,  31]]),\n",
       " array([[ 10,  11,  77,  29,  91,  83,  31,  80,  35,  98],\n",
       "        [ 82,  86,  78,  17,  42,  93,  13,  56,  33,  62],\n",
       "        [ 37,  97,  27,  68,  99,  49,  79,  88,   1,  85],\n",
       "        [ 54,  96,  16,  46,  53,  64,  84,  23,  18,  20],\n",
       "        [ 48,  87,  76,   7,  69,  52,  44,  57,   8,  90],\n",
       "        [  3,  59,  70,  89,  26,  14,  92,   2,  63,  50],\n",
       "        [ 15,  66,  60,   4, 100,  72,  45,  32,  28,  61],\n",
       "        [ 65,  73,  43,   6,  51,  41,  81,  21,  12,  25],\n",
       "        [ 95,  67,  36,  71,  55,  34,  19,  75,  47,  74],\n",
       "        [ 38,  30,  39,   5,  94,   9,  22,  24,  40,  58]]),\n",
       " array([[ 38,  92,  35,  67,  17,  69,  60,  74,   5,  82],\n",
       "        [ 36,  16,  31,  73,  11,  89,   8,  22,  13,  41],\n",
       "        [ 25,  21,  91,  49,  10,  79,  85,  88,  12,  43],\n",
       "        [ 80,  58,  50,  65,  19,  81,  98,  93,  53,  83],\n",
       "        [ 76,   2,  94,  71,  77,  52,  46,  96,  27,  23],\n",
       "        [ 64,  42,  51,  90,  61,  72,  18,  20,  86,  56],\n",
       "        [  6,  59,   1,  62,  54,  63,   3,  78,   9,  34],\n",
       "        [ 37,  66,  99,  29,  84,  15,  75,  39,  47,  33],\n",
       "        [ 45,  30,  95,  57, 100,  28,  44,   4,  26,   7],\n",
       "        [ 97,  24,  48,  40,  87,  70,  32,  55,  14,  68]]),\n",
       " array([[ 17,  42,  87,  70,  41,  98,  50,  77,  75,   6],\n",
       "        [  1,  85,  51,   2,  20,  66,  47,  53,  61,  95],\n",
       "        [  4,  56,  88,  43,  80,  57,  27,  38,  21,  72],\n",
       "        [ 46,  18,  29,  93,  68,  35,  91,  32,  63,   3],\n",
       "        [ 13,  49,  52,  78,  74,  40,  83,  92,  12,  30],\n",
       "        [100,  82,  97,   5,  23,  45,  64,  69,  65,  76],\n",
       "        [ 79,  25,  37,  84,  10,  55,  58,  33,  28,  89],\n",
       "        [ 86,  94,  71,  54,  73,  59,  99,  81,   7,  60],\n",
       "        [ 39,  31,   8,  44,  96,  14,  22,  48,  67,  26],\n",
       "        [ 24,  16,  62,  34,  90,  15,  11,  19,   9,  36]]),\n",
       " array([[ 36,  62,  92,  15,   3,  65,  42,  71,  29,  31],\n",
       "        [ 41,   4,  23,   6,  46,  74,  56,  94,  70,  77],\n",
       "        [ 59,  44,  91,  82,  40,   8,  10,  83,  60,  80],\n",
       "        [ 16,  66,  17,  95,  97,  64,  99,  88,  37,  75],\n",
       "        [ 52,  27,   5,  26,  25,  53,  20,  89,  54,  47],\n",
       "        [ 34,  61,  45,  43,  35,  63,   9,  51,  21,  81],\n",
       "        [  7,  72,  93,  68,  76,  50,  18,  98,  79,   2],\n",
       "        [ 96,  58,  85,  22,   1, 100,  19,  84,  12,  69],\n",
       "        [ 73,  57,  13,  87,  39,  55,  78,  11,  67,  30],\n",
       "        [ 49,  28,  38,  14,  86,  24,  33,  90,  48,  32]]),\n",
       " array([[ 36,   4,  12,  95,  63,  28,  29,  23,  57,  45],\n",
       "        [ 60,  99,  50,  66,  33,  46,  81,  91,  51,   5],\n",
       "        [ 74,  49,  43,  35,  32,  59,   7,  24,  96,  37],\n",
       "        [ 64,  39,  98,  14,  92,  54,  86,  85,   8,  42],\n",
       "        [ 72,  44,  89,  67,  87,  16,  20,  62,  48,  26],\n",
       "        [ 93,  52,  78,  79,  10,  69,  19,  73,  53, 100],\n",
       "        [ 88,  22,  56,  82,  38,  76,  77,  13,  41,  90],\n",
       "        [ 75,  25,  17,  65,   6,  58,  34,   2,  18,  61],\n",
       "        [ 71,  31,  30,  11,  94,  84,  80,  55,  70,  68],\n",
       "        [ 47,   1,   3,  83,  27,  15,  21,   9,  40,  97]]),\n",
       " array([[ 20,  38,  12,  93,  99,  52,  80,  41,  70,  17],\n",
       "        [  7,  63,  57,  86,  24,  11,  83,  84,  58,  32],\n",
       "        [ 62,  64,  14,  45,   2,  34,  72,  74,  42,  56],\n",
       "        [ 18,  21,  89,  15,  37,  59,  55,  96,   9,  88],\n",
       "        [ 48,  54,  92,   6,  23,   4,   8,  61,  53,  35],\n",
       "        [ 81,  43,   5,  87,  79,  22,  95,  60,  73, 100],\n",
       "        [ 36,  29,  75,  91,  26,  19,  13,  33,  94,  97],\n",
       "        [ 66,  46,  40,  67,  47,  85,  69,  90,  39,   1],\n",
       "        [ 78,   3,  44,  65,  31,  82,  16,  25,  10,  76],\n",
       "        [ 28,  49,  50,  51,  68,  30,  98,  77,  71,  27]]),\n",
       " array([[ 77,  41,  52,  63,  12, 100,  23,  10,  49,  64],\n",
       "        [ 50,  28,  68,  87,  56,  98,  30,  32,   6,  37],\n",
       "        [ 48,  51,  26,  79,   7,  35,   3,  65,  69,  34],\n",
       "        [ 74,  18,  31,   9,  70,  61,  88,  39,  92,  46],\n",
       "        [ 15,  71,  40,  55,  11,  22,  72,  58,  67,  13],\n",
       "        [ 59,  90,  45,  94,   2,   8,  17,  16,  53,  85],\n",
       "        [  1,  57,   4,  21,  80,  14,  78,   5,  73,  20],\n",
       "        [ 81,  75,  27,  44,  95,  24,  82,  47,  43,  60],\n",
       "        [ 29,  83,  62,  89,  96,  76,  84,  36,  54,  97],\n",
       "        [ 86,  38,  99,  25,  33,  93,  42,  66,  91,  19]]),\n",
       " array([[ 37,  27,  19,   4,  46,  23,  81,  38,  48,  96],\n",
       "        [ 78,  54,  25,  51,  33,  28,  64,  68,  13,  93],\n",
       "        [ 59,  30,  63,  91,   2,  40,  58,  14,  39,  29],\n",
       "        [ 75,  10,   6,  34,  16,  71,   8,  80,  65,  92],\n",
       "        [ 24,  15,  60,  42,  35,  31,  20,  62,  18,   5],\n",
       "        [  9,  70,  66,  26,  61,  69,  86,  47,  88,  22],\n",
       "        [ 76,  11,  95,  36,  85,  21,  53, 100,  67,   3],\n",
       "        [ 45,  44,  77,  98,  32,  79,  55,  83,  41,  73],\n",
       "        [ 49,  84,  72,  90,  99,  87,  97,  52,  50,  94],\n",
       "        [ 82,   1,  56,  17,  12,  57,  74,  89,  43,   7]])]"
      ]
     },
     "execution_count": 4,
     "metadata": {},
     "output_type": "execute_result"
    }
   ],
   "source": [
    "initial_population"
   ]
  },
  {
   "cell_type": "markdown",
   "metadata": {},
   "source": [
    "#### 适者生存\n",
    "\n",
    "接下来是重头戏 —— 适者生存环节了。我们如何让这10条染色体“弱肉强食，适者生存”呢？\n",
    "\n",
    "刚刚说到，我们需要保证同一个人的前、后、左、右邻座不能和这个人有很大的兴趣差异。那么首先就要衡量这种“差异”。\n",
    "\n",
    "请**写一个函数，输入是用户A（`person`）和一组用户B的数据（`*others`），返回A同B中每个用户喜好的平均曼哈顿距离**。"
   ]
  },
  {
   "cell_type": "code",
   "execution_count": 16,
   "metadata": {},
   "outputs": [],
   "source": [
    "from scipy.spatial.distance import pdist\n",
    "\n",
    "def calculate_interest_distance(person, *others):\n",
    "    people = [df.ix[person, 0:3]]\n",
    "    for other in others:\n",
    "        if other:\n",
    "            people.append(df.ix[other, 0:3])\n",
    "\n",
    "    return np.average(pdist(people, metric='cityblock')) if len(people) > 1 else 0"
   ]
  },
  {
   "cell_type": "markdown",
   "metadata": {},
   "source": [
    "现在我们已经有了衡量“差距”的方法，我们就可以将其作为染色体“适应性”的度量。\n",
    "\n",
    "接下来自然是为每条染色体的每个基因计算其距离了。我们会遍历每条染色体，为所有基因计算它与它前、后、左、右四个neighbor的距离。由于并非所有基因都有前后左右四个邻居，本着防御性编程的精神，我们先写个函数处理对应邻居不存在的意外情况。"
   ]
  },
  {
   "cell_type": "code",
   "execution_count": 17,
   "metadata": {},
   "outputs": [],
   "source": [
    "def get_element_safe(sequence, position):\n",
    "    try:\n",
    "        return sequence.item(position)\n",
    "    except IndexError:\n",
    "        return None"
   ]
  },
  {
   "cell_type": "markdown",
   "metadata": {},
   "source": [
    "接下来就可以动手了！请**补全`calculate_chromosome_fitness`函数，该函数接收一个染色体，并为该染色体上的每个基因计算曼哈顿距离，最后以这些距离的平均值作为这条染色体的“适者程度”**"
   ]
  },
  {
   "cell_type": "code",
   "execution_count": 18,
   "metadata": {},
   "outputs": [],
   "source": [
    "def calculate_chromosome_fitness(chromosome):\n",
    "    fitnesses = []\n",
    "    for index, gene in np.ndenumerate(chromosome):\n",
    "        next_to = calculate_interest_distance(gene,\n",
    "                                             get_element_safe(chromosome, (index[0], index[1] - 1)),\n",
    "                                             get_element_safe(chromosome, (index[0], index[1] + 1)))\n",
    "        in_front = calculate_interest_distance(gene,\n",
    "                                              get_element_safe(chromosome, (index[0]-1, index[1])))\n",
    "        behind = calculate_interest_distance(gene,\n",
    "                                            get_element_safe(chromosome, (index[0]+1, index[1])))\n",
    "        fitnesses.append(sum([next_to, in_front, behind]) / 3)\n",
    "    return np.average(fitnesses)"
   ]
  },
  {
   "cell_type": "markdown",
   "metadata": {},
   "source": [
    "好的，这样我们就可以比较刚刚产生的10条染色体了。现在可以遍历每条染色体，计算染色体适应性，最后将相关信息保存起来。"
   ]
  },
  {
   "cell_type": "code",
   "execution_count": 19,
   "metadata": {
    "scrolled": true
   },
   "outputs": [
    {
     "name": "stderr",
     "output_type": "stream",
     "text": [
      "D:\\Dr.HanInXMU\\Software\\python\\python3.6\\python3.6\\lib\\site-packages\\ipykernel_launcher.py:4: DeprecationWarning: \n",
      ".ix is deprecated. Please use\n",
      ".loc for label based indexing or\n",
      ".iloc for positional indexing\n",
      "\n",
      "See the documentation here:\n",
      "http://pandas.pydata.org/pandas-docs/stable/indexing.html#ix-indexer-is-deprecated\n",
      "  after removing the cwd from sys.path.\n",
      "D:\\Dr.HanInXMU\\Software\\python\\python3.6\\python3.6\\lib\\site-packages\\ipykernel_launcher.py:7: DeprecationWarning: \n",
      ".ix is deprecated. Please use\n",
      ".loc for label based indexing or\n",
      ".iloc for positional indexing\n",
      "\n",
      "See the documentation here:\n",
      "http://pandas.pydata.org/pandas-docs/stable/indexing.html#ix-indexer-is-deprecated\n",
      "  import sys\n"
     ]
    }
   ],
   "source": [
    "generations = []\n",
    "\n",
    "for chromosome in initial_population:\n",
    "    generations.append({\n",
    "        \"generation\": 0,\n",
    "        \"fitness\": calculate_chromosome_fitness(chromosome),\n",
    "        \"chromosome\": chromosome,\n",
    "        \"active\": True\n",
    "    })"
   ]
  },
  {
   "cell_type": "markdown",
   "metadata": {},
   "source": [
    "现在来看看结果吧！请**以 `fitness` 为 key，为generations排序**"
   ]
  },
  {
   "cell_type": "code",
   "execution_count": 24,
   "metadata": {},
   "outputs": [
    {
     "data": {
      "text/plain": [
       "[{'active': True,\n",
       "  'chromosome': array([[ 17,  42,  87,  70,  41,  98,  50,  77,  75,   6],\n",
       "         [  1,  85,  51,   2,  20,  66,  47,  53,  61,  95],\n",
       "         [  4,  56,  88,  43,  80,  57,  27,  38,  21,  72],\n",
       "         [ 46,  18,  29,  93,  68,  35,  91,  32,  63,   3],\n",
       "         [ 13,  49,  52,  78,  74,  40,  83,  92,  12,  30],\n",
       "         [100,  82,  97,   5,  23,  45,  64,  69,  65,  76],\n",
       "         [ 79,  25,  37,  84,  10,  55,  58,  33,  28,  89],\n",
       "         [ 86,  94,  71,  54,  73,  59,  99,  81,   7,  60],\n",
       "         [ 39,  31,   8,  44,  96,  14,  22,  48,  67,  26],\n",
       "         [ 24,  16,  62,  34,  90,  15,  11,  19,   9,  36]]),\n",
       "  'fitness': 9.557777777777778,\n",
       "  'generation': 0},\n",
       " {'active': True,\n",
       "  'chromosome': array([[ 36,  62,  92,  15,   3,  65,  42,  71,  29,  31],\n",
       "         [ 41,   4,  23,   6,  46,  74,  56,  94,  70,  77],\n",
       "         [ 59,  44,  91,  82,  40,   8,  10,  83,  60,  80],\n",
       "         [ 16,  66,  17,  95,  97,  64,  99,  88,  37,  75],\n",
       "         [ 52,  27,   5,  26,  25,  53,  20,  89,  54,  47],\n",
       "         [ 34,  61,  45,  43,  35,  63,   9,  51,  21,  81],\n",
       "         [  7,  72,  93,  68,  76,  50,  18,  98,  79,   2],\n",
       "         [ 96,  58,  85,  22,   1, 100,  19,  84,  12,  69],\n",
       "         [ 73,  57,  13,  87,  39,  55,  78,  11,  67,  30],\n",
       "         [ 49,  28,  38,  14,  86,  24,  33,  90,  48,  32]]),\n",
       "  'fitness': 9.57888888888889,\n",
       "  'generation': 0},\n",
       " {'active': True,\n",
       "  'chromosome': array([[ 10,  11,  77,  29,  91,  83,  31,  80,  35,  98],\n",
       "         [ 82,  86,  78,  17,  42,  93,  13,  56,  33,  62],\n",
       "         [ 37,  97,  27,  68,  99,  49,  79,  88,   1,  85],\n",
       "         [ 54,  96,  16,  46,  53,  64,  84,  23,  18,  20],\n",
       "         [ 48,  87,  76,   7,  69,  52,  44,  57,   8,  90],\n",
       "         [  3,  59,  70,  89,  26,  14,  92,   2,  63,  50],\n",
       "         [ 15,  66,  60,   4, 100,  72,  45,  32,  28,  61],\n",
       "         [ 65,  73,  43,   6,  51,  41,  81,  21,  12,  25],\n",
       "         [ 95,  67,  36,  71,  55,  34,  19,  75,  47,  74],\n",
       "         [ 38,  30,  39,   5,  94,   9,  22,  24,  40,  58]]),\n",
       "  'fitness': 9.584444444444443,\n",
       "  'generation': 0},\n",
       " {'active': True,\n",
       "  'chromosome': array([[ 94,  13,  90,  30,  43,  60,  64,  83,  40,  20],\n",
       "         [ 61,  99,  24,  49,  74,  38,  59,  51,  84,  78],\n",
       "         [  6,  85,  65,  45,  69,  29,   5,  87,  11,  97],\n",
       "         [  8,  41,  62,  37,  57,  96,  79,  14,  10,  67],\n",
       "         [ 26,  47,   2,   7,  17,   1,  19,  16,  93,  77],\n",
       "         [  9,   4,  91,  92,  42,  39,  31,  18,  36,  98],\n",
       "         [ 89,  53,  58,  88,  46,  95,  21,  68,  50,  12],\n",
       "         [ 54,  71,  15,  70,  56,  22,  66,  35,  33,  23],\n",
       "         [ 72, 100,  75,  82,  27,  86,  52,  48,  55,  34],\n",
       "         [  3,  76,  28,  73,  32,  63,  25,  81,  44,  80]]),\n",
       "  'fitness': 9.685555555555556,\n",
       "  'generation': 0},\n",
       " {'active': True,\n",
       "  'chromosome': array([[ 38,  92,  35,  67,  17,  69,  60,  74,   5,  82],\n",
       "         [ 36,  16,  31,  73,  11,  89,   8,  22,  13,  41],\n",
       "         [ 25,  21,  91,  49,  10,  79,  85,  88,  12,  43],\n",
       "         [ 80,  58,  50,  65,  19,  81,  98,  93,  53,  83],\n",
       "         [ 76,   2,  94,  71,  77,  52,  46,  96,  27,  23],\n",
       "         [ 64,  42,  51,  90,  61,  72,  18,  20,  86,  56],\n",
       "         [  6,  59,   1,  62,  54,  63,   3,  78,   9,  34],\n",
       "         [ 37,  66,  99,  29,  84,  15,  75,  39,  47,  33],\n",
       "         [ 45,  30,  95,  57, 100,  28,  44,   4,  26,   7],\n",
       "         [ 97,  24,  48,  40,  87,  70,  32,  55,  14,  68]]),\n",
       "  'fitness': 9.735555555555555,\n",
       "  'generation': 0},\n",
       " {'active': True,\n",
       "  'chromosome': array([[ 71,  13,  28,  33,  62,  19,   2,  92,   7,  38],\n",
       "         [ 60,  82,  93,  32,  55,  46,  29,  16,  40,   9],\n",
       "         [ 51,  35,  74,   5,  52,  17,  50,  61,  21,  23],\n",
       "         [  8,   3,  69,  18,   1,  95,  59,  22,  27,  14],\n",
       "         [ 77,  58,  70,  20,  73,  48,  30,  98,  44,  83],\n",
       "         [ 88,   6,  37,  86,  56,  76,  90,   4,  65,  64],\n",
       "         [ 99,  81,  15,  49,  12,  36,  66,  43,  26,  10],\n",
       "         [ 63,  79,  34,  97,  80,  89,  25,  42,  78,  41],\n",
       "         [ 85,  96,  72,  57,  39,  94,  45,  84,  54, 100],\n",
       "         [ 75,  47,  91,  68,  53,  87,  24,  11,  67,  31]]),\n",
       "  'fitness': 9.793333333333333,\n",
       "  'generation': 0},\n",
       " {'active': True,\n",
       "  'chromosome': array([[ 37,  27,  19,   4,  46,  23,  81,  38,  48,  96],\n",
       "         [ 78,  54,  25,  51,  33,  28,  64,  68,  13,  93],\n",
       "         [ 59,  30,  63,  91,   2,  40,  58,  14,  39,  29],\n",
       "         [ 75,  10,   6,  34,  16,  71,   8,  80,  65,  92],\n",
       "         [ 24,  15,  60,  42,  35,  31,  20,  62,  18,   5],\n",
       "         [  9,  70,  66,  26,  61,  69,  86,  47,  88,  22],\n",
       "         [ 76,  11,  95,  36,  85,  21,  53, 100,  67,   3],\n",
       "         [ 45,  44,  77,  98,  32,  79,  55,  83,  41,  73],\n",
       "         [ 49,  84,  72,  90,  99,  87,  97,  52,  50,  94],\n",
       "         [ 82,   1,  56,  17,  12,  57,  74,  89,  43,   7]]),\n",
       "  'fitness': 9.824444444444445,\n",
       "  'generation': 0},\n",
       " {'active': True,\n",
       "  'chromosome': array([[ 20,  38,  12,  93,  99,  52,  80,  41,  70,  17],\n",
       "         [  7,  63,  57,  86,  24,  11,  83,  84,  58,  32],\n",
       "         [ 62,  64,  14,  45,   2,  34,  72,  74,  42,  56],\n",
       "         [ 18,  21,  89,  15,  37,  59,  55,  96,   9,  88],\n",
       "         [ 48,  54,  92,   6,  23,   4,   8,  61,  53,  35],\n",
       "         [ 81,  43,   5,  87,  79,  22,  95,  60,  73, 100],\n",
       "         [ 36,  29,  75,  91,  26,  19,  13,  33,  94,  97],\n",
       "         [ 66,  46,  40,  67,  47,  85,  69,  90,  39,   1],\n",
       "         [ 78,   3,  44,  65,  31,  82,  16,  25,  10,  76],\n",
       "         [ 28,  49,  50,  51,  68,  30,  98,  77,  71,  27]]),\n",
       "  'fitness': 10.052222222222223,\n",
       "  'generation': 0},\n",
       " {'active': True,\n",
       "  'chromosome': array([[ 36,   4,  12,  95,  63,  28,  29,  23,  57,  45],\n",
       "         [ 60,  99,  50,  66,  33,  46,  81,  91,  51,   5],\n",
       "         [ 74,  49,  43,  35,  32,  59,   7,  24,  96,  37],\n",
       "         [ 64,  39,  98,  14,  92,  54,  86,  85,   8,  42],\n",
       "         [ 72,  44,  89,  67,  87,  16,  20,  62,  48,  26],\n",
       "         [ 93,  52,  78,  79,  10,  69,  19,  73,  53, 100],\n",
       "         [ 88,  22,  56,  82,  38,  76,  77,  13,  41,  90],\n",
       "         [ 75,  25,  17,  65,   6,  58,  34,   2,  18,  61],\n",
       "         [ 71,  31,  30,  11,  94,  84,  80,  55,  70,  68],\n",
       "         [ 47,   1,   3,  83,  27,  15,  21,   9,  40,  97]]),\n",
       "  'fitness': 10.064444444444446,\n",
       "  'generation': 0},\n",
       " {'active': True,\n",
       "  'chromosome': array([[ 77,  41,  52,  63,  12, 100,  23,  10,  49,  64],\n",
       "         [ 50,  28,  68,  87,  56,  98,  30,  32,   6,  37],\n",
       "         [ 48,  51,  26,  79,   7,  35,   3,  65,  69,  34],\n",
       "         [ 74,  18,  31,   9,  70,  61,  88,  39,  92,  46],\n",
       "         [ 15,  71,  40,  55,  11,  22,  72,  58,  67,  13],\n",
       "         [ 59,  90,  45,  94,   2,   8,  17,  16,  53,  85],\n",
       "         [  1,  57,   4,  21,  80,  14,  78,   5,  73,  20],\n",
       "         [ 81,  75,  27,  44,  95,  24,  82,  47,  43,  60],\n",
       "         [ 29,  83,  62,  89,  96,  76,  84,  36,  54,  97],\n",
       "         [ 86,  38,  99,  25,  33,  93,  42,  66,  91,  19]]),\n",
       "  'fitness': 10.183333333333334,\n",
       "  'generation': 0}]"
      ]
     },
     "execution_count": 24,
     "metadata": {},
     "output_type": "execute_result"
    }
   ],
   "source": [
    "# CODE HERE\n",
    "\n",
    "sorted(generations,key=lambda r: r['fitness'])"
   ]
  },
  {
   "cell_type": "markdown",
   "metadata": {},
   "source": [
    "#### 繁衍生息\n",
    "\n",
    "接下来就要真正的“适者生存”了。在进化论中，只有优秀的基因才有资格繁衍出下一代。我们要让两个优秀染色体结合，“生出“一个孩子来。\n",
    "\n",
    "具体的”繁衍规则“可以多种多样，在这里我们规定如下：\n",
    "* 对于id在1-50的用户，其基因来自于母亲\n",
    "* 对于id在51-100的用户，其基因来自于父亲\n",
    "* 如果基因有冲突（两个用户被指向同一个位置），就再随机挑选一个位置\n",
    "\n",
    "现在请**补全”遗传规则“**"
   ]
  },
  {
   "cell_type": "code",
   "execution_count": 25,
   "metadata": {},
   "outputs": [],
   "source": [
    "import random\n",
    "\n",
    "def recombine(mother, father):\n",
    "    child = np.ones((10,10)) * -1\n",
    "    # 遍历每个用户\n",
    "    for index, uid in enumerate(df.index):\n",
    "        if uid <= 50:\n",
    "            # 如果uid <=50，则position为mother中该uid的位置\n",
    "            position = np.where(mother == uid)\n",
    "        else:\n",
    "            # 如果uid > 50，则position为father中该uid的位置\n",
    "            position = np.where(father == uid)\n",
    "        \n",
    "        if child[position] != -1:\n",
    "            # 处理冲突\n",
    "            filtered = np.where(np.equal(child, -1))\n",
    "            position = random.choice(list(zip(filtered[0], filtered[1])))\n",
    "\n",
    "        child[position] = uid\n",
    "\n",
    "    return child"
   ]
  },
  {
   "cell_type": "markdown",
   "metadata": {},
   "source": [
    "但是这种遗传规则可能会导致”近亲遗传“，进而不利于物种的进化，还好我们可以设计一套基因变异的方案，也就是随机调换一些基因（就是用户座位）的位置，以保证生物多样性。"
   ]
  },
  {
   "cell_type": "code",
   "execution_count": 26,
   "metadata": {},
   "outputs": [],
   "source": [
    "import random\n",
    "\n",
    "def mutate_chromosome(chromosome):\n",
    "    first = (random.randrange(0, 10, 1), random.randrange(0, 10, 1))\n",
    "    second = (random.randrange(0, 10, 1), random.randrange(0, 10, 1))\n",
    "\n",
    "    chromosome[first[0], first[1]], chromosome[second[0], second[1]] = chromosome[second[0], second[1]], chromosome[first[0], first[1]]\n",
    "    return chromosome"
   ]
  },
  {
   "cell_type": "markdown",
   "metadata": {},
   "source": [
    "#### 可视化\n",
    "\n",
    "接下来我们来将每条染色体的适应性都可视化出来，为了更生物一点，我们用类似于基因图谱的形式绘制每条染色体的基因情况"
   ]
  },
  {
   "cell_type": "code",
   "execution_count": 29,
   "metadata": {},
   "outputs": [],
   "source": [
    "import matplotlib.pyplot as plt\n",
    "%matplotlib inline\n",
    "\n",
    "def draw_population(population, generation):\n",
    "    #get_ids = np.vectorize(get_id)\n",
    "    figure, axes = plt.subplots(1, 10, figsize=(20, 3))\n",
    "\n",
    "    for index, chromosome in enumerate(population):\n",
    "        ids = chromosome\n",
    "        axes[index].imshow(ids, interpolation=\"nearest\", cmap=plt.cm.plasma)\n",
    "        subplot_title = \"Chromosome \" + str(index)\n",
    "        axes[index].set_title(subplot_title)\n",
    "\n",
    "    plot_title = \"Generation \" + str(generation)\n",
    "    figure.suptitle(plot_title)\n",
    "    plt.show()"
   ]
  },
  {
   "cell_type": "code",
   "execution_count": 30,
   "metadata": {},
   "outputs": [
    {
     "data": {
      "image/png": "[encoded data removed]",
      "text/plain": [
       "<Figure size 1440x216 with 10 Axes>"
      ]
     },
     "metadata": {},
     "output_type": "display_data"
    }
   ],
   "source": [
    "draw_population(initial_population, 0)"
   ]
  },
  {
   "cell_type": "markdown",
   "metadata": {},
   "source": [
    "#### 又到了交配的季节\n",
    "\n",
    "现在就可以交配了。我们可以设定如下终止条件，如果终止条件没有被触发，就可以一直交配下去：\n",
    "* 代数达到上限\n",
    "* 后代的适应性超过阈值\n",
    "* 后代适应性退化\n",
    "\n",
    "这里我们迭代最多50次，在50代交配中，只要有染色体达到或超过优质标准（距离小于5）就停止。\n",
    "\n",
    "现在来实现交配逻辑吧！\n"
   ]
  },
  {
   "cell_type": "code",
   "execution_count": 31,
   "metadata": {},
   "outputs": [],
   "source": [
    "import copy\n",
    "\n",
    "most_fit = []\n",
    "\n",
    "# 当前的适应度\n",
    "max_fitness = None\n",
    "\n",
    "# 适应度最高的染色体\n",
    "fittest_chromosome = None"
   ]
  },
  {
   "cell_type": "code",
   "execution_count": 32,
   "metadata": {},
   "outputs": [],
   "source": [
    "### 从generations取出某一代的所有染色体，并排序\n",
    "def get_chromosomes_in_generation(generations, generation_num):\n",
    "    # Get only the chromosomes in this generation\n",
    "    generation = list(filter(lambda k: k['generation'] == generation_num, \n",
    "                             generations))\n",
    "    return sorted(generation, key=lambda k: k['fitness'])\n",
    "\n",
    "\n",
    "### 更新 most_fit / max_fitness / fittest_chromosome \n",
    "def sort_chromosomes(generation, most_fit):\n",
    "    max_fitness = generation[0]['fitness']\n",
    "    most_fit.append(max_fitness)\n",
    "    fittest_chromosome = generation[0]['chromosome']\n",
    "    return most_fit, fittest_chromosome"
   ]
  },
  {
   "cell_type": "markdown",
   "metadata": {},
   "source": [
    "在这个交配游戏中，每一代我们都会让适应度最好的四个染色体交配，生下两个后代，然后杀掉适应度最差的两个染色体以取而代之。为了防止数据污染，对每一代我们都复制仍存活的染色体数据。"
   ]
  },
  {
   "cell_type": "code",
   "execution_count": null,
   "metadata": {
    "collapsed": true
   },
   "outputs": [],
   "source": [
    "# 请将以下Comment 添加到代码的合适位置\n",
    "# A. 将适应度最高的两条染色体交配\n",
    "# B. 将新一代染色体加入到generations中并返回\n",
    "# C. 将适应度最差的两个染色体杀掉\n",
    "# D. 找到仍存活的染色体，并更新代数\n",
    "# E. 将适应度第三和第四高的两条染色体交配\n",
    "\n",
    "\n",
    "def copy_chromosomes(generation, generations):\n",
    "    new_generation = copy.deepcopy(generation)\n",
    "    \n",
    "    new_generation[-1]['active'] = False\n",
    "    new_generation[-2]['active'] = False# C. 将适应度最差的两个染色体杀掉\n",
    "    \n",
    "    active = list(filter(lambda k: k['active'] == True, new_generation))\n",
    "    for chromosome in active:\n",
    "        chromosome['generation'] += 1\n",
    "    \n",
    "    \n",
    "    generations.extend(active)# D. 找到仍存活的染色体，并更新代数\n",
    "    return generations\n",
    "\n",
    "\n",
    "def mate_chromosomes(generation, generations, generation_num):\n",
    "    \n",
    "    child = recombine(generation[0]['chromosome'], generation[1]['chromosome'])# A. 将适应度最高的两条染色体交配\n",
    "    child = mutate_chromosome(child)\n",
    "    generations.append({\n",
    "      \"active\": True,\n",
    "      \"chromosome\": child,\n",
    "      \"generation\": generation_num + 1,\n",
    "      \"fitness\": calculate_chromosome_fitness(child)\n",
    "    })\n",
    "\n",
    "    other = recombine(generation[2]['chromosome'], generation[3]['chromosome'])# E. 将适应度第三和第四高的两条染色体交配\n",
    "    other = mutate_chromosome(chromosome)\n",
    "    generations.append({\n",
    "      \"active\": True,\n",
    "      \"chromosome\": other,\n",
    "      \"generation\": generation_num + 1,\n",
    "      \"fitness\": calculate_chromosome_fitness(other)# B. 将新一代染色体加入到generations中并返回\n",
    "    })\n",
    "    return generations"
   ]
  },
  {
   "cell_type": "markdown",
   "metadata": {},
   "source": [
    "最后，我们用一个`main`函数将这些步骤封装起来"
   ]
  },
  {
   "cell_type": "code",
   "execution_count": null,
   "metadata": {
    "collapsed": true
   },
   "outputs": [],
   "source": [
    "def run_ga(input_generations):\n",
    "    fittest = []\n",
    "    max_fitness = None\n",
    "    fittest_chromo = None\n",
    "    for generation_num in range(50):\n",
    "        if max_fitness and max_fitness < 5:\n",
    "            break\n",
    "\n",
    "        generation = get_chromosomes_in_generation(input_generations, generation_num)\n",
    "        fittest, fittest_chromo = sort_chromosomes(generation, most_fit)\n",
    "\n",
    "        input_generations = copy_chromosomes(generation, input_generations)\n",
    "        input_generations = mate_chromosomes(generation, input_generations, generation_num)\n",
    "\n",
    "        draw_population(map(lambda d: d['chromosome'], \n",
    "                        get_chromosomes_in_generation(input_generations, generation_num)), generation_num)\n",
    "\n",
    "    return fittest, fittest_chromo"
   ]
  },
  {
   "cell_type": "code",
   "execution_count": null,
   "metadata": {},
   "outputs": [],
   "source": [
    "most_fit, fittest_chromosome = run_ga(generations)"
   ]
  },
  {
   "cell_type": "markdown",
   "metadata": {},
   "source": [
    "到这里，遗传算法就告一段落了，我们最后看看这个model的表现吧"
   ]
  },
  {
   "cell_type": "code",
   "execution_count": null,
   "metadata": {},
   "outputs": [],
   "source": [
    "plt.plot(most_fit)\n",
    "plt.title(\"Most Fit Trend\")\n",
    "plt.xlabel(\"Generation\")\n",
    "plt.ylabel(\"Fitness\")\n",
    "plt.show()"
   ]
  },
  {
   "cell_type": "code",
   "execution_count": null,
   "metadata": {},
   "outputs": [],
   "source": [
    "fittest_chromosome"
   ]
  },
  {
   "cell_type": "code",
   "execution_count": null,
   "metadata": {
    "collapsed": true
   },
   "outputs": [],
   "source": []
  }
 ],
 "metadata": {
  "anaconda-cloud": {},
  "kernelspec": {
   "display_name": "Python 3",
   "language": "python",
   "name": "python3"
  },
  "language_info": {
   "codemirror_mode": {
    "name": "ipython",
    "version": 3
   },
   "file_extension": ".py",
   "mimetype": "text/x-python",
   "name": "python",
   "nbconvert_exporter": "python",
   "pygments_lexer": "ipython3",
   "version": "3.6.3"
  },
  "toc": {
   "base_numbering": 1,
   "nav_menu": {},
   "number_sections": true,
   "sideBar": true,
   "skip_h1_title": false,
   "title_cell": "Table of Contents",
   "title_sidebar": "Contents",
   "toc_cell": false,
   "toc_position": {},
   "toc_section_display": true,
   "toc_window_display": false
  }
 },
 "nbformat": 4,
 "nbformat_minor": 2
}
